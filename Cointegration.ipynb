{
 "cells": [
  {
   "cell_type": "code",
   "execution_count": 6,
   "id": "ac34d610-546d-459c-a79c-379c5fdc8db0",
   "metadata": {},
   "outputs": [],
   "source": [
    "import numpy as np\n",
    "import pandas as pd\n",
    "from datetime import datetime \n",
    "import yfinance as yf \n",
    "import matplotlib.pyplot as plt\n",
    "import statsmodels.api as stat\n",
    "import statsmodels.tsa.stattools as ts"
   ]
  },
  {
   "cell_type": "code",
   "execution_count": 34,
   "id": "8955c3e7-c776-4983-8a25-a9d11df0d166",
   "metadata": {},
   "outputs": [
    {
     "name": "stderr",
     "output_type": "stream",
     "text": [
      "[*********************100%%**********************]  1 of 1 completed\n",
      "[*********************100%%**********************]  1 of 1 completed"
     ]
    },
    {
     "name": "stdout",
     "output_type": "stream",
     "text": [
      "Date\n",
      "2021-07-02    383.302856\n",
      "2021-07-06    382.581848\n",
      "2021-07-07    383.898773\n",
      "2021-07-08    380.842010\n",
      "2021-07-09    384.860107\n",
      "Name: VOO, dtype: float64\n",
      "Date\n",
      "2021-07-02    417.596680\n",
      "2021-07-06    416.836060\n",
      "2021-07-07    418.309204\n",
      "2021-07-08    414.900787\n",
      "2021-07-09    419.329742\n",
      "Name: SPY, dtype: float64\n",
      "Pair of securities is not co-integrated\n",
      "(-0.19339982706063297, 0.9393037812785524, 13, 507, {'1%': -3.4433139398425348, '5%': -2.867257567756961, '10%': -2.5698152474041915}, -1139.317523682983)\n"
     ]
    },
    {
     "name": "stderr",
     "output_type": "stream",
     "text": [
      "\n"
     ]
    }
   ],
   "source": [
    "# Define list of tickers\n",
    "tickers_list = ['SPY', 'VOO']\n",
    "\n",
    "# Store the list in a Dataframe\n",
    "data = pd.DataFrame(columns=tickers_list)\n",
    "\n",
    "# Fetch the data\n",
    "for ticker in tickers_list:\n",
    "    data[ticker] = yf.download(ticker,'2021-07-02','2023-07-31')['Adj Close']\n",
    "\n",
    "# Perform ADF test on the closing prices of fetched data\n",
    "result = stat.OLS(data['SPY'], data['VOO']).fit()\n",
    "c_t = ts.adfuller(result.resid)\n",
    "\n",
    "# Print the first 5 rows of our fetched data\n",
    "print (data['VOO'].head())\n",
    "print (data['SPY'].head())\n",
    "\n",
    "# Checking co-integration\n",
    "if c_t[0]<= c_t[4]['10%'] and c_t[1]<= 0.1:\n",
    "    print(\"Pair of securities is co-integrated\")\n",
    "else:\n",
    "    print(\"Pair of securities is not co-integrated\")\n",
    "print(c_t)"
   ]
  },
  {
   "cell_type": "code",
   "execution_count": null,
   "id": "1b280a4c-a7eb-42e4-9f77-c1b75d0cf567",
   "metadata": {},
   "outputs": [],
   "source": []
  },
  {
   "cell_type": "code",
   "execution_count": null,
   "id": "e8e9762b-1014-4ce2-ac7d-95eed1a92999",
   "metadata": {},
   "outputs": [],
   "source": []
  }
 ],
 "metadata": {
  "kernelspec": {
   "display_name": "Python 3 (ipykernel)",
   "language": "python",
   "name": "python3"
  },
  "language_info": {
   "codemirror_mode": {
    "name": "ipython",
    "version": 3
   },
   "file_extension": ".py",
   "mimetype": "text/x-python",
   "name": "python",
   "nbconvert_exporter": "python",
   "pygments_lexer": "ipython3",
   "version": "3.11.5"
  }
 },
 "nbformat": 4,
 "nbformat_minor": 5
}
